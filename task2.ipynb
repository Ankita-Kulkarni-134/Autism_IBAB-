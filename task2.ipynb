{
 "cells": [
  {
   "cell_type": "markdown",
   "id": "2d3e7fbd-fcbf-402d-a662-79b627cafd42",
   "metadata": {},
   "source": [
    "2.1 How many seconds are in an hour? Use the interactive interpreter as a calculator\n",
    " and multiply the number of seconds in a minute (60) by the number of minutes in an\n",
    " hour (also 60)"
   ]
  },
  {
   "cell_type": "code",
   "execution_count": 1,
   "id": "2a320fd9-077b-4041-9fa1-8de93585af1a",
   "metadata": {},
   "outputs": [
    {
     "name": "stdout",
     "output_type": "stream",
     "text": [
      "3600\n"
     ]
    }
   ],
   "source": [
    "sec_in_min = 60 \n",
    "min_in_hr = 60\n",
    "sec_in_hr = sec_in_min*min_in_hr\n",
    "print(sec_in_hr)"
   ]
  },
  {
   "cell_type": "markdown",
   "id": "d0877550-97ba-46c8-8be7-243b12096a50",
   "metadata": {},
   "source": [
    " 2.2 Assign the result from the previous task (seconds in an hour) to a variable called\n",
    " seconds_per_hour."
   ]
  },
  {
   "cell_type": "code",
   "execution_count": 7,
   "id": "51f02a0f-e3bf-4032-a779-f9e22ebc807a",
   "metadata": {},
   "outputs": [
    {
     "name": "stdout",
     "output_type": "stream",
     "text": [
      "3600\n"
     ]
    }
   ],
   "source": [
    "seconds_per_hour = sec_in_hr\n",
    "print(seconds_per_hour)"
   ]
  },
  {
   "cell_type": "markdown",
   "id": "f4ed5ec9-cd8b-48f2-9b2f-02ce50e52203",
   "metadata": {},
   "source": [
    " 2.3 How many seconds are in a day? Use your seconds_per_hour variable\n",
    " \n",
    " 2.4 Calculate seconds per day again, but this time save the result in a variable called\n",
    " seconds_per_day."
   ]
  },
  {
   "cell_type": "code",
   "execution_count": 17,
   "id": "fa319d16-f657-4f53-a9a2-005321d0ba4d",
   "metadata": {},
   "outputs": [
    {
     "name": "stdout",
     "output_type": "stream",
     "text": [
      "86400\n"
     ]
    }
   ],
   "source": [
    "seconds_per_day = seconds_per_hour*24\n",
    "print(seconds_per_day)"
   ]
  },
  {
   "cell_type": "markdown",
   "id": "b3898212-146d-4f67-84f6-369f221c210c",
   "metadata": {},
   "source": [
    " 2.5 Divide seconds_per_day by seconds_per_hour. Use floating-point (/) division."
   ]
  },
  {
   "cell_type": "code",
   "execution_count": 25,
   "id": "bcdc5b60-b252-4d00-9b70-6d2fa91f6bd7",
   "metadata": {},
   "outputs": [
    {
     "data": {
      "text/plain": [
       "24.0"
      ]
     },
     "execution_count": 25,
     "metadata": {},
     "output_type": "execute_result"
    }
   ],
   "source": [
    " seconds_per_day /  seconds_per_hour"
   ]
  },
  {
   "cell_type": "markdown",
   "id": "d24d1772-df73-4722-93b1-fb087b4af805",
   "metadata": {},
   "source": [
    "2.6 Divide seconds_per_day by seconds_per_hour, using integer (//) division. Did\n",
    " this number agree with the floating-point value from the previous question, aside from\n",
    " the final .0?"
   ]
  },
  {
   "cell_type": "code",
   "execution_count": 23,
   "id": "5f5b61bc-bdff-4741-b1b6-073c89edfda0",
   "metadata": {},
   "outputs": [
    {
     "data": {
      "text/plain": [
       "24"
      ]
     },
     "execution_count": 23,
     "metadata": {},
     "output_type": "execute_result"
    }
   ],
   "source": [
    " seconds_per_day //  seconds_per_hour"
   ]
  },
  {
   "cell_type": "markdown",
   "id": "f4e702ea-c33b-4cac-9769-b84e58029a56",
   "metadata": {},
   "source": [
    "Yes, the result of the integer division (24) agrees with the floating-point value (24.0) aside from the final .0, which is dropped in integer division."
   ]
  }
 ],
 "metadata": {
  "kernelspec": {
   "display_name": "Python 3 (ipykernel)",
   "language": "python",
   "name": "python3"
  },
  "language_info": {
   "codemirror_mode": {
    "name": "ipython",
    "version": 3
   },
   "file_extension": ".py",
   "mimetype": "text/x-python",
   "name": "python",
   "nbconvert_exporter": "python",
   "pygments_lexer": "ipython3",
   "version": "3.12.4"
  }
 },
 "nbformat": 4,
 "nbformat_minor": 5
}
