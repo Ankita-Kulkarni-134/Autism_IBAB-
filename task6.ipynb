{
 "cells": [
  {
   "cell_type": "markdown",
   "id": "b409719d-ad0e-40ac-8ac1-1f8d3768ee93",
   "metadata": {},
   "source": [
    " 6.1. Make a class called Thing with no contents and print it. Then, create an object called\n",
    " example from this class and also print it. Are the printed values the same or different?"
   ]
  },
  {
   "cell_type": "code",
   "execution_count": 49,
   "id": "ba38bd5b-5202-4c4c-8967-a52386a6bf23",
   "metadata": {},
   "outputs": [
    {
     "name": "stdout",
     "output_type": "stream",
     "text": [
      "Class : <class '__main__.thing'>\n",
      "<__main__.thing object at 0x000001F825255520>\n"
     ]
    }
   ],
   "source": [
    "class thing () :\n",
    "    def __init__(self ) :\n",
    "        pass \n",
    "        \n",
    "print(\"Class :\" , thing)\n",
    "example1 = thing()\n",
    "print(example1)"
   ]
  },
  {
   "cell_type": "markdown",
   "id": "1fa5e528-3db4-4f15-af04-0dd97ff02b28",
   "metadata": {},
   "source": [
    "6.2. Make a new class called Thing2 and assign the value 'abc' to a class attribute called\n",
    " letters. Print letters."
   ]
  },
  {
   "cell_type": "code",
   "execution_count": 51,
   "id": "92bf52a3-e390-4100-b324-3ca4a8d4c425",
   "metadata": {},
   "outputs": [
    {
     "name": "stdout",
     "output_type": "stream",
     "text": [
      "printing thr letters :  abc\n"
     ]
    }
   ],
   "source": [
    "class thing2():\n",
    "    def __init__(self , letters):\n",
    "        self.letters = letters \n",
    "    def printlet (self):\n",
    "        print(\"printing thr letters : \" , self.letters)\n",
    "\n",
    "example2 = thing2('abc')\n",
    "example2.printlet()"
   ]
  },
  {
   "cell_type": "markdown",
   "id": "be8eec40-139c-4833-ab9f-77f4315b77c9",
   "metadata": {},
   "source": [
    "6.3. Make yet another class called, of course, Thing3. This time, assign the value 'xyz'\n",
    " to an instance (object) attribute called letters. Print letters. Do you need to make\n",
    " an object from the class to do this?"
   ]
  },
  {
   "cell_type": "code",
   "execution_count": 53,
   "id": "a303ef5b-7313-4a40-aae2-5e559a68286b",
   "metadata": {},
   "outputs": [
    {
     "name": "stdout",
     "output_type": "stream",
     "text": [
      "printitng letters :  xyz\n"
     ]
    }
   ],
   "source": [
    "class thing3():\n",
    "    def __init__ (self , letters):\n",
    "        self.letters = letters \n",
    "    def printlet2(self):\n",
    "        print(\"printitng letters : \" , self.letters)\n",
    "example3 = thing3('xyz')\n",
    "example3.printlet2()"
   ]
  },
  {
   "cell_type": "markdown",
   "id": "43068626-fe3e-467e-b0ad-b93a6caa3aba",
   "metadata": {},
   "source": [
    " 6.4. Make a class called Element, with instance attributes name, symbol, and number.\n",
    " Create an object of this class with the values 'Hydrogen', 'H', and 1."
   ]
  },
  {
   "cell_type": "code",
   "execution_count": 59,
   "id": "fe8f0910-ddc8-4da1-81e0-09b87b73d524",
   "metadata": {},
   "outputs": [
    {
     "name": "stdout",
     "output_type": "stream",
     "text": [
      "Name : Hydrogen\n",
      "symbol : H\n",
      "number : 1\n"
     ]
    }
   ],
   "source": [
    "class Element():\n",
    "    def __init__(self , name , symbol , number):\n",
    "        self.name = name\n",
    "        self.symbol = symbol\n",
    "        self.number = number\n",
    "    def chem(self):\n",
    "        print(\"Name :\" , self.name)\n",
    "        print(\"symbol :\" , self.symbol)\n",
    "        print(\"number :\" , self.number)\n",
    "\n",
    "example4 = Element('Hydrogen' , 'H' , 1)\n",
    "example4.chem()"
   ]
  },
  {
   "cell_type": "markdown",
   "id": "62298a5d-6a13-4e67-b034-3c15876e3612",
   "metadata": {},
   "source": [
    " 6.5. Make a dictionary with these keys and values: 'name': 'Hydrogen', 'symbol':\n",
    " 'H', 'number': 1. Then, create an object called hydrogen from class Element using\n",
    " this dictionary."
   ]
  },
  {
   "cell_type": "code",
   "execution_count": 68,
   "id": "3f40c981-8963-4cad-bf60-69ea3eebf125",
   "metadata": {},
   "outputs": [
    {
     "name": "stdout",
     "output_type": "stream",
     "text": [
      "Name : Hydrogen\n",
      "symbol : H\n",
      "number : 1\n"
     ]
    }
   ],
   "source": [
    "info = { 'name': 'Hydrogen', 'symbol':\n",
    " 'H', 'number': 1} \n",
    "hydrogen = Element(**info)\n",
    "hydrogen.chem()"
   ]
  },
  {
   "cell_type": "markdown",
   "id": "44df18f1-334b-4415-aa20-222201e301cd",
   "metadata": {},
   "source": [
    " 6.6. For the Element class, define a method called dump() that prints the values of the\n",
    " object’s attributes (name, symbol, and number). Create the hydrogen object from this new\n",
    " definition and use dump() to print its attributes."
   ]
  },
  {
   "cell_type": "code",
   "execution_count": 73,
   "id": "fc1f38af-ba6c-4459-869a-d73f284e2287",
   "metadata": {},
   "outputs": [
    {
     "name": "stdout",
     "output_type": "stream",
     "text": [
      "Name : Hydrogen\n",
      "symbol : H\n",
      "number : 1\n"
     ]
    }
   ],
   "source": [
    "class Element():\n",
    "    def __init__(self , name , symbol , number):\n",
    "        self.name = name\n",
    "        self.symbol = symbol\n",
    "        self.number = number\n",
    "    def dump(self):\n",
    "        print(\"Name :\" , self.name)\n",
    "        print(\"symbol :\" , self.symbol)\n",
    "        print(\"number :\" , self.number)\n",
    "\n",
    "hydrogen = Element('Hydrogen' , 'H' , 1)\n",
    "hydrogen.dump()"
   ]
  },
  {
   "cell_type": "markdown",
   "id": "92640377-24db-4268-92e9-d3528858b4c8",
   "metadata": {},
   "source": [
    "6.7. Call print(hydrogen). In the definition of Element, change the name of method\n",
    " dump to __str__, create a new hydrogen object, and call print(hydrogen) again."
   ]
  },
  {
   "cell_type": "code",
   "execution_count": 77,
   "id": "105afadc-638b-4b58-97e1-e91ed14a8ddc",
   "metadata": {},
   "outputs": [
    {
     "name": "stdout",
     "output_type": "stream",
     "text": [
      "<__main__.Element object at 0x000001F82439C410>\n"
     ]
    }
   ],
   "source": [
    "print(hydrogen)"
   ]
  },
  {
   "cell_type": "code",
   "execution_count": 83,
   "id": "d09934ca-1d7d-474f-aebe-c478c0d16dab",
   "metadata": {},
   "outputs": [
    {
     "data": {
      "text/plain": [
       "'<__main__.Element object at 0x000001F8262529C0>'"
      ]
     },
     "execution_count": 83,
     "metadata": {},
     "output_type": "execute_result"
    }
   ],
   "source": [
    "class Element():\n",
    "    def __init__(self , name , symbol , number):\n",
    "        self.name = name\n",
    "        self.symbol = symbol\n",
    "        self.number = number\n",
    "    def __str__self():\n",
    "        print(\"Name :\" , self.name)\n",
    "        print(\"symbol :\" , self.symbol)\n",
    "        print(\"number :\" , self.number)\n",
    "\n",
    "hydrogen = Element('Hydrogen' , 'H' , 1)\n",
    "hydrogen.__str__()"
   ]
  },
  {
   "cell_type": "markdown",
   "id": "c0fb82b6-660c-4703-a5f8-686601615a23",
   "metadata": {},
   "source": [
    "6.8. Modify Element to make the attributes name, symbol, and number private. Define a\n",
    " getter property for each to return its value"
   ]
  },
  {
   "cell_type": "code",
   "execution_count": 94,
   "id": "d035b6c5-637a-498a-b5ff-4e3e2409a46a",
   "metadata": {},
   "outputs": [
    {
     "name": "stdout",
     "output_type": "stream",
     "text": [
      "Name : Hydrogen\n",
      "symbol : H\n",
      "number : 1\n"
     ]
    }
   ],
   "source": [
    "class Element():\n",
    "    def __init__(self , name , symbol , number):\n",
    "        self.__name = name\n",
    "        self.__symbol = symbol\n",
    "        self.__number = number\n",
    "#\"__\" -> for accessing the private elements\n",
    "#getter method \n",
    "    @property   \n",
    "    def name(self):\n",
    "        return self.__name\n",
    "        \n",
    "    @property\n",
    "    def name(self):\n",
    "        return self.__symbol\n",
    "\n",
    "    @property\n",
    "    def name(self):\n",
    "        return self.__number\n",
    "\n",
    "    \n",
    "    def dump(self):\n",
    "        print(\"Name :\" , self.__name)\n",
    "        print(\"symbol :\" , self.__symbol)\n",
    "        print(\"number :\" , self.__number)\n",
    "\n",
    "hydrogen = Element('Hydrogen' , 'H' , 1)\n",
    "hydrogen.dump()"
   ]
  },
  {
   "cell_type": "markdown",
   "id": "5bade1e2-e2f5-48f5-9d7f-61669082118b",
   "metadata": {},
   "source": [
    " 6.9. Define three classes: Bear, Rabbit, and Octothorpe. For each, define only one\n",
    " method: eats(). This should return 'berries' (Bear), 'clover' (Rabbit), or\n",
    " 'campers' (Octothorpe). Create one object from each and print what it eats."
   ]
  },
  {
   "cell_type": "code",
   "execution_count": 99,
   "id": "a9e9a05b-c12d-4fa8-8f1a-13e67d9d2c34",
   "metadata": {},
   "outputs": [
    {
     "name": "stdout",
     "output_type": "stream",
     "text": [
      "berries\n",
      "clover\n",
      "campers\n"
     ]
    }
   ],
   "source": [
    "class Bear():\n",
    "    def __init(self , style):\n",
    "        self.style = style\n",
    "    def eat(self):\n",
    "        return \"berries\"\n",
    "\n",
    "class Rabbit():\n",
    "    def __init(self , style):\n",
    "        self.style = style\n",
    "    def eat(self):\n",
    "        return \"clover\"\n",
    "\n",
    "class Octothorpe():\n",
    "    def __init(self , style):\n",
    "        self.style = style\n",
    "    def eat(self):\n",
    "        return \"campers\"\n",
    "\n",
    "animalB = Bear()\n",
    "print(animalB.eat())\n",
    "\n",
    "animalR = Rabbit()\n",
    "print(animalR.eat())\n",
    "\n",
    "animalO = Octothorpe()\n",
    "print(animalO.eat())"
   ]
  },
  {
   "cell_type": "markdown",
   "id": "af156592-1b90-41c8-af52-f930163fe369",
   "metadata": {},
   "source": [
    "6.10. Define these classes: Laser, Claw, and SmartPhone. Each has only one method:\n",
    " does(). This returns 'disintegrate' (Laser), 'crush' (Claw), or 'ring' (Smart\n",
    " Phone). Then, define the class Robot that has one instance (object) of each of these.\n",
    " Define a does() method for the Robot that prints what its component objects do."
   ]
  },
  {
   "cell_type": "code",
   "execution_count": 110,
   "id": "e41ece4a-a99b-47bd-af5f-67025c540340",
   "metadata": {},
   "outputs": [
    {
     "name": "stdout",
     "output_type": "stream",
     "text": [
      "disintegrate\n",
      "crush\n",
      "ring\n"
     ]
    }
   ],
   "source": [
    "class Laser():\n",
    "    def __init(self , style):\n",
    "        self.style = style\n",
    "    def does(self):\n",
    "        return \"disintegrate\"\n",
    "\n",
    "class Claw():\n",
    "    def __init(self , style):\n",
    "        self.style = style\n",
    "    def does(self):\n",
    "        return \"crush\"\n",
    "\n",
    "class SmartPhone():\n",
    "    def __init(self , style):\n",
    "        self.style = style\n",
    "    def does(self):\n",
    "        return \"ring\"\n",
    "\n",
    "class Robot():\n",
    "    def __init__(self):\n",
    "        self.Laser = Laser \n",
    "        self.Claw = Claw\n",
    "        self.SmartPhone = SmartPhone\n",
    "    def does(self):\n",
    "        print(Laser.does('disintegrate'))\n",
    "        print(Claw.does('crush'))\n",
    "        print(SmartPhone.does('ring'))\n",
    "\n",
    "robot = Robot()\n",
    "robot.does()\n",
    "    "
   ]
  }
 ],
 "metadata": {
  "kernelspec": {
   "display_name": "Python 3 (ipykernel)",
   "language": "python",
   "name": "python3"
  },
  "language_info": {
   "codemirror_mode": {
    "name": "ipython",
    "version": 3
   },
   "file_extension": ".py",
   "mimetype": "text/x-python",
   "name": "python",
   "nbconvert_exporter": "python",
   "pygments_lexer": "ipython3",
   "version": "3.12.4"
  }
 },
 "nbformat": 4,
 "nbformat_minor": 5
}
