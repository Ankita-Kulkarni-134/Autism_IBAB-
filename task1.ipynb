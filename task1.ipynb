{
 "cells": [
  {
   "cell_type": "markdown",
   "id": "a040947c-0836-42f4-8853-faa368cd8722",
   "metadata": {},
   "source": [
    " Play with the interpreter a little. Use it like a calculator and type this: 8 * 9. Press\n",
    " the Enter key to see the result. Python should print 72."
   ]
  },
  {
   "cell_type": "code",
   "execution_count": 4,
   "id": "5d6bcf36-0bca-44cd-9967-2d537ee8da4a",
   "metadata": {},
   "outputs": [
    {
     "data": {
      "text/plain": [
       "72"
      ]
     },
     "execution_count": 4,
     "metadata": {},
     "output_type": "execute_result"
    }
   ],
   "source": [
    "8*9"
   ]
  },
  {
   "cell_type": "markdown",
   "id": "44bef310-28a8-45cb-a7e7-b79916a5d968",
   "metadata": {},
   "source": [
    " Type the number 47 and press the Enter key. Did it print 47 for you on the next line?"
   ]
  },
  {
   "cell_type": "code",
   "execution_count": 7,
   "id": "d5e02601-f8b6-4906-a6db-340f16137e4a",
   "metadata": {},
   "outputs": [
    {
     "data": {
      "text/plain": [
       "47"
      ]
     },
     "execution_count": 7,
     "metadata": {},
     "output_type": "execute_result"
    }
   ],
   "source": [
    "47"
   ]
  },
  {
   "cell_type": "markdown",
   "id": "60b73010-3acb-48ed-a7cf-83be4c142d49",
   "metadata": {},
   "source": [
    " Now, type print(47) and press Enter. Did that also print 47 for you on the next line?"
   ]
  },
  {
   "cell_type": "code",
   "execution_count": 10,
   "id": "4c35de18-c0c9-4c42-a190-68afd6f3f7ac",
   "metadata": {},
   "outputs": [
    {
     "name": "stdout",
     "output_type": "stream",
     "text": [
      "47\n"
     ]
    }
   ],
   "source": [
    "print(47)"
   ]
  }
 ],
 "metadata": {
  "kernelspec": {
   "display_name": "Python 3 (ipykernel)",
   "language": "python",
   "name": "python3"
  },
  "language_info": {
   "codemirror_mode": {
    "name": "ipython",
    "version": 3
   },
   "file_extension": ".py",
   "mimetype": "text/x-python",
   "name": "python",
   "nbconvert_exporter": "python",
   "pygments_lexer": "ipython3",
   "version": "3.12.4"
  }
 },
 "nbformat": 4,
 "nbformat_minor": 5
}
