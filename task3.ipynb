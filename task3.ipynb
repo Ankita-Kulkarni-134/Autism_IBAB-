{
 "cells": [
  {
   "cell_type": "markdown",
   "id": "2f622f1e-f4fb-42dc-bc82-24379eac864e",
   "metadata": {},
   "source": [
    " 3.1. Create a list called years_list, starting with the year of your birth, and each year\n",
    " thereafter until the year of your fifth birthday. For example, if you were born in 1980.\n",
    " the list would be years_list = [1980, 1981, 1982, 1983, 1984, 1985]"
   ]
  },
  {
   "cell_type": "code",
   "execution_count": 51,
   "id": "693d9908-513c-4f0d-97c2-6deb1badec08",
   "metadata": {},
   "outputs": [],
   "source": [
    "years_list = [ 2002 , 2001, 2002 , 2003 , 2004 , 2005]"
   ]
  },
  {
   "cell_type": "markdown",
   "id": "2ba1a9fb-5312-4fe6-9e6c-1d6eab504924",
   "metadata": {},
   "source": [
    " 3.2. In which year in years_list was your third birthday? Remember, you were 0 years\n",
    " of age for your first year"
   ]
  },
  {
   "cell_type": "code",
   "execution_count": 54,
   "id": "68610313-0472-46e8-9ef7-a56dec1089d6",
   "metadata": {},
   "outputs": [
    {
     "name": "stdout",
     "output_type": "stream",
     "text": [
      "third_yr =  2003\n"
     ]
    }
   ],
   "source": [
    "print(\"third_yr = \" , years_list[3])"
   ]
  },
  {
   "cell_type": "markdown",
   "id": "59d1fcc0-8df6-4514-9917-44d65fa1e811",
   "metadata": {},
   "source": [
    " 3.3. In which year in years_list were you the oldest?"
   ]
  },
  {
   "cell_type": "code",
   "execution_count": 57,
   "id": "b84dc4e9-1d8d-4873-845e-6a54bf6ceb4a",
   "metadata": {},
   "outputs": [
    {
     "name": "stdout",
     "output_type": "stream",
     "text": [
      "oldest_yr =  2005\n"
     ]
    }
   ],
   "source": [
    "print(\"oldest_yr = \" , years_list[-1])"
   ]
  },
  {
   "cell_type": "markdown",
   "id": "92aad371-9965-438b-b254-e6093f9237dd",
   "metadata": {},
   "source": [
    " 3.4. Make a list called things with these three strings as elements: \"mozzarella\", \"cin\n",
    " derella\", \"salmonella\""
   ]
  },
  {
   "cell_type": "code",
   "execution_count": 59,
   "id": "4ba90a95-4c51-44d7-b418-3b8d449a7f1d",
   "metadata": {},
   "outputs": [
    {
     "name": "stdout",
     "output_type": "stream",
     "text": [
      "['mozzarella', 'cinderella', 'salmonella']\n"
     ]
    }
   ],
   "source": [
    "things = [  \"mozzarella\", \"cinderella\", \"salmonella\"]\n",
    "print(things)"
   ]
  },
  {
   "cell_type": "markdown",
   "id": "0a3023ca-80a0-42a3-8a06-2c29ad0e2abf",
   "metadata": {},
   "source": [
    " 3.5. Capitalize the element in things that refers to a person and then print the list. Did\n",
    " it change the element in the list?"
   ]
  },
  {
   "cell_type": "code",
   "execution_count": 62,
   "id": "2207c3a5-071e-42d8-8f92-ccda9ea8de9e",
   "metadata": {},
   "outputs": [
    {
     "name": "stdout",
     "output_type": "stream",
     "text": [
      "['mozzarella', 'Cinderella', 'salmonella']\n"
     ]
    }
   ],
   "source": [
    "things[1] = things[1].capitalize()\n",
    "print(things)"
   ]
  },
  {
   "cell_type": "markdown",
   "id": "80b3cff2-7119-499b-8e4a-1cb77f899661",
   "metadata": {},
   "source": [
    " 3.6. Make the cheesy element of things all uppercase and then print the list.\n",
    " \n",
    " 3.7. Delete the disease element from things, collect your Nobel Prize, and print the list"
   ]
  },
  {
   "cell_type": "code",
   "execution_count": 65,
   "id": "ebdaaa7f-3126-4cd6-a36f-6243bbcb2ac7",
   "metadata": {},
   "outputs": [
    {
     "name": "stdout",
     "output_type": "stream",
     "text": [
      "['MOZZARELLA', 'Cinderella']\n"
     ]
    }
   ],
   "source": [
    "things[0] = things[0].upper()\n",
    "del things[-1]\n",
    "print(things)"
   ]
  },
  {
   "cell_type": "markdown",
   "id": "7041c68f-c32b-4d2b-bac6-f245bcbf2f4e",
   "metadata": {},
   "source": [
    " 3.8. Create a list called surprise with the elements \"Groucho\", \"Chico\", and \"Harpo\".\n",
    " \n",
    " 3.9. Lowercase the last element of the surprise list, reverse it, and then capitalize it."
   ]
  },
  {
   "cell_type": "code",
   "execution_count": 68,
   "id": "94d9cc53-8f6d-492c-bb55-f671614c72b4",
   "metadata": {},
   "outputs": [
    {
     "name": "stdout",
     "output_type": "stream",
     "text": [
      "['Groucho', 'Chico', 'Harpo']\n",
      "['Groucho', 'Chico', 'Oprah']\n"
     ]
    }
   ],
   "source": [
    "surprise = [\"Groucho\", \"Chico\",  \"Harpo\"]\n",
    "print(surprise)\n",
    "surprise[-1] = surprise[-1].lower()[::-1].capitalize()\n",
    "print(surprise)"
   ]
  },
  {
   "cell_type": "markdown",
   "id": "677efacf-18c0-4694-9531-84a1b0cbe535",
   "metadata": {},
   "source": [
    "3.10. Make an English-to-French dictionary called e2f and print it. Here are your starter\n",
    " words: dog is chien, cat is chat, and walrus is morse"
   ]
  },
  {
   "cell_type": "code",
   "execution_count": 71,
   "id": "6f8c9e1b-abfa-4646-a33c-6aa51231c511",
   "metadata": {},
   "outputs": [
    {
     "name": "stdout",
     "output_type": "stream",
     "text": [
      "{'dog': 'chien', 'cat': 'chat', 'walrus': 'morse'}\n"
     ]
    }
   ],
   "source": [
    "e2f = { 'dog' : 'chien', 'cat' : 'chat','walrus' : 'morse'}\n",
    "print(e2f)"
   ]
  },
  {
   "cell_type": "markdown",
   "id": "54c88f6e-8997-4bfe-a4fc-6f6e41516341",
   "metadata": {},
   "source": [
    "3.11. Using your three-word dictionary e2f, print the French word for walrus"
   ]
  },
  {
   "cell_type": "code",
   "execution_count": 74,
   "id": "b0549012-a428-4604-b7ce-6366d67a3600",
   "metadata": {},
   "outputs": [
    {
     "name": "stdout",
     "output_type": "stream",
     "text": [
      "morse\n"
     ]
    }
   ],
   "source": [
    "print(e2f['walrus']) "
   ]
  },
  {
   "cell_type": "markdown",
   "id": "5f3b9a01-23bf-494d-91ae-c7b72e107db9",
   "metadata": {},
   "source": [
    "3.12. Make a French-to-English dictionary called f2e from e2f. Use the items method."
   ]
  },
  {
   "cell_type": "code",
   "execution_count": 77,
   "id": "2e41f9d1-934a-4ee9-a012-17325dce71fe",
   "metadata": {},
   "outputs": [
    {
     "name": "stdout",
     "output_type": "stream",
     "text": [
      "{'chien': 'dog', 'chat': 'cat', 'morse': 'walrus'}\n"
     ]
    }
   ],
   "source": [
    "f2e = {value:key for key , value in e2f.items()}\n",
    "print(f2e)"
   ]
  },
  {
   "cell_type": "markdown",
   "id": "08374c7e-8e0e-4213-bc06-557e6041ee82",
   "metadata": {},
   "source": [
    " 3.13. Using f2e, print the English equivalent of the French word chien."
   ]
  },
  {
   "cell_type": "markdown",
   "id": "448ee0fc-6833-48e4-9172-02e3fcee3180",
   "metadata": {},
   "source": [
    "print(f2e[\"chien\"])"
   ]
  },
  {
   "cell_type": "markdown",
   "id": "63093bab-853f-49ac-8c81-225478815bbf",
   "metadata": {},
   "source": [
    " 3.14. Make and print a set of English words from the keys in e2f."
   ]
  },
  {
   "cell_type": "code",
   "execution_count": 81,
   "id": "b4b7807e-e151-4ab1-bba3-e66b55ba3129",
   "metadata": {},
   "outputs": [
    {
     "name": "stdout",
     "output_type": "stream",
     "text": [
      "{'walrus', 'dog', 'cat'}\n"
     ]
    }
   ],
   "source": [
    "english_words = set(e2f.keys())\n",
    "print(english_words)"
   ]
  },
  {
   "cell_type": "markdown",
   "id": "90d779ba-8f9d-4c5a-a0ff-e735ff8fb99d",
   "metadata": {},
   "source": [
    " 3.15. Make a multilevel dictionary called life. Use these strings for the topmost keys:\n",
    " 'animals', 'plants', and 'other'. Make the 'animals' key refer to another dictionary\n",
    " with the keys 'cats', 'octopi', and 'emus'. Make the 'cats' key refer to a list of strings\n",
    " with the values 'Henri', 'Grumpy', and 'Lucy'. Make all the other keys refer to empty\n",
    " dictionaries."
   ]
  },
  {
   "cell_type": "code",
   "execution_count": 84,
   "id": "2381db1f-1082-4765-ac47-67a52aff5fcc",
   "metadata": {},
   "outputs": [
    {
     "name": "stdout",
     "output_type": "stream",
     "text": [
      "{'animals': {'cats': ['1', '2', '3'], 'dogs': {'gavathi': 2}}, 'plants': {'rose': 7, 'lotus': 10}, 'others': {}}\n"
     ]
    }
   ],
   "source": [
    "life = {\n",
    "    \"animals\" :{\n",
    "        \"cats\" : [ \"1\" , \"2\" , \"3\"],\n",
    "        \"dogs\" : {\"gavathi\" : 2}, \n",
    "    },\n",
    "    \"plants\" :{\n",
    "        \"rose\" : 7 , \n",
    "        \"lotus\" : 10 , \n",
    "    }, \n",
    "    \"others\" : {}\n",
    "}\n",
    "print(life)"
   ]
  },
  {
   "cell_type": "markdown",
   "id": "73bda38f-6c6e-49b4-9433-1cfe7e6e6608",
   "metadata": {},
   "source": [
    " 3.16. Print the top-level keys of life.\n",
    " \n",
    " 3.17. Print the keys for life['animals'].\n",
    " \n",
    " 3.18. Print the values for life['animals']['cats']."
   ]
  },
  {
   "cell_type": "code",
   "execution_count": 87,
   "id": "ca1d13ca-9ac4-4acf-aa12-15140e1be031",
   "metadata": {},
   "outputs": [
    {
     "name": "stdout",
     "output_type": "stream",
     "text": [
      "dict_keys(['animals', 'plants', 'others'])\n",
      "dict_keys(['cats', 'dogs'])\n",
      "['1', '2', '3']\n"
     ]
    }
   ],
   "source": [
    "print(life.keys())\n",
    "print(life['animals'].keys())\n",
    "print(life['animals']['cats'])\n"
   ]
  }
 ],
 "metadata": {
  "kernelspec": {
   "display_name": "Python 3 (ipykernel)",
   "language": "python",
   "name": "python3"
  },
  "language_info": {
   "codemirror_mode": {
    "name": "ipython",
    "version": 3
   },
   "file_extension": ".py",
   "mimetype": "text/x-python",
   "name": "python",
   "nbconvert_exporter": "python",
   "pygments_lexer": "ipython3",
   "version": "3.12.4"
  }
 },
 "nbformat": 4,
 "nbformat_minor": 5
}
