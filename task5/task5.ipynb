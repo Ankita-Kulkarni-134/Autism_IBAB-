{
 "cells": [
  {
   "cell_type": "markdown",
   "id": "85b8cdf3-9e07-4dc8-85dc-8b40b7455fd9",
   "metadata": {},
   "source": [
    " 5.5. Make a dictionary called plain with the key-value pairs 'a': 1, 'b': 2, and 'c':\n",
    " 3, and then print it."
   ]
  },
  {
   "cell_type": "code",
   "execution_count": 2,
   "id": "33a1b3ec-0c0b-47df-ac6f-0bf973480975",
   "metadata": {},
   "outputs": [
    {
     "name": "stdout",
     "output_type": "stream",
     "text": [
      "{'a': 1, 'b': 2, 'c': 3}\n"
     ]
    }
   ],
   "source": [
    "plain = { 'a': 1, 'b': 2,'c': 3}\n",
    "print(plain)"
   ]
  },
  {
   "cell_type": "markdown",
   "id": "4f8ad3a8-50f5-44d8-b426-25327b589f0c",
   "metadata": {},
   "source": [
    "5.6. Make an OrderedDict called fancy from the same pairs listed in 5.5 and print it.\n",
    " Did it print in the same order as plain?"
   ]
  },
  {
   "cell_type": "code",
   "execution_count": 5,
   "id": "0e877ae7-0ff8-4f33-ac42-cb77d9af55a3",
   "metadata": {},
   "outputs": [
    {
     "name": "stdout",
     "output_type": "stream",
     "text": [
      "OrderedDict({'a': 1, 'b': 2, 'c': 3})\n"
     ]
    }
   ],
   "source": [
    "from collections import OrderedDict\n",
    "fancy = OrderedDict({ 'a': 1, 'b': 2,'c': 3})\n",
    "print(fancy)\n",
    "\n",
    "#yes it is printing it in the same way "
   ]
  },
  {
   "cell_type": "markdown",
   "id": "790a73f4-e9c2-44f6-94d7-e925440481d1",
   "metadata": {},
   "source": [
    " 5.7. Make a defaultdict called dict_of_lists and pass it the argument list. Make\n",
    " the list dict_of_lists['a'] and append the value 'something for a' to it in one\n",
    " assignment. Print dict_of_lists['a']."
   ]
  },
  {
   "cell_type": "code",
   "execution_count": 7,
   "id": "380cf79d-fb18-493e-8ec2-14a14ade56bb",
   "metadata": {},
   "outputs": [
    {
     "name": "stdout",
     "output_type": "stream",
     "text": [
      "['Ankita ']\n"
     ]
    }
   ],
   "source": [
    "from collections import defaultdict\n",
    "dict_of_lists = defaultdict(list)\n",
    "dict_of_lists['a'].append('Ankita ')\n",
    "print(dict_of_lists['a'])"
   ]
  }
 ],
 "metadata": {
  "kernelspec": {
   "display_name": "Python 3 (ipykernel)",
   "language": "python",
   "name": "python3"
  },
  "language_info": {
   "codemirror_mode": {
    "name": "ipython",
    "version": 3
   },
   "file_extension": ".py",
   "mimetype": "text/x-python",
   "name": "python",
   "nbconvert_exporter": "python",
   "pygments_lexer": "ipython3",
   "version": "3.12.4"
  }
 },
 "nbformat": 4,
 "nbformat_minor": 5
}
