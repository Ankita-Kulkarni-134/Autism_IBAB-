{
 "cells": [
  {
   "cell_type": "markdown",
   "id": "4949a591-9eb0-4c0d-ba04-773c0ef85c02",
   "metadata": {},
   "source": [
    "4.1 Assign the value 7 to the variable guess_me. Then, write the conditional tests (if,\n",
    " else, and elif) to print the string 'too low' if guess_me is less than 7, 'too high' if\n",
    " greater than 7, and 'just right' if equal to 7."
   ]
  },
  {
   "cell_type": "code",
   "execution_count": 4,
   "id": "e6e6cb98-5650-495f-8d67-40c653a59b3d",
   "metadata": {},
   "outputs": [
    {
     "name": "stdin",
     "output_type": "stream",
     "text": [
      "Enter the number : 56\n"
     ]
    },
    {
     "name": "stdout",
     "output_type": "stream",
     "text": [
      "Too high\n"
     ]
    }
   ],
   "source": [
    "num = int(input(\"Enter the number :\"))\n",
    "guess_me = 7\n",
    "if num > guess_me:\n",
    "    print(\"Too high\")\n",
    "elif num < guess_me:\n",
    "    print(\"Too low\")\n",
    "else:\n",
    "    print(\"Just Right\")"
   ]
  },
  {
   "cell_type": "markdown",
   "id": "6de80c59-df71-45e6-aa12-d2a96929e556",
   "metadata": {},
   "source": [
    " 4.2 Assign the value 7 to the variable guess_me and the value 1 to the variable start.\n",
    " Write a while loop that compares start with guess_me. Print too low if start is less\n",
    " than guess me. If start equals guess_me, print 'found it!' and exit the loop. If start\n",
    " is greater than guess_me, print 'oops' and exit the loop. Increment start at the end of\n",
    " the loop."
   ]
  },
  {
   "cell_type": "code",
   "execution_count": 7,
   "id": "6d657630-30f1-4b0a-9f02-f5d2fde8a081",
   "metadata": {},
   "outputs": [
    {
     "name": "stdout",
     "output_type": "stream",
     "text": [
      "oops\n"
     ]
    }
   ],
   "source": [
    "guess_me = 7\n",
    "start = 1\n",
    "while True :\n",
    "    if start > guess_me:\n",
    "        print(\"Too low\")\n",
    "    elif start < guess_me:\n",
    "        print(\"oops\")\n",
    "    else:\n",
    "        print(\"found it !\")\n",
    "    break\n",
    "start += start"
   ]
  },
  {
   "cell_type": "markdown",
   "id": "c675ed34-b732-4c83-9614-1e1bb6695190",
   "metadata": {},
   "source": [
    "4.3 Use a for loop to print the values of the list [3, 2, 1, 0]"
   ]
  },
  {
   "cell_type": "code",
   "execution_count": 10,
   "id": "4082808a-f503-4c6d-9a82-a90dfcf564b1",
   "metadata": {},
   "outputs": [
    {
     "name": "stdout",
     "output_type": "stream",
     "text": [
      "[3, 2, 1, 0]\n"
     ]
    }
   ],
   "source": [
    "l1 = []\n",
    "for i in range(0,4):\n",
    "    l1.append(i)\n",
    "print(l1[::-1])"
   ]
  },
  {
   "cell_type": "markdown",
   "id": "15d6ed57-0f08-4457-bad9-8b33701a22e6",
   "metadata": {},
   "source": [
    "4.4 Use a list comprehension \n",
    "to make a list of the even numbers in range(10)"
   ]
  },
  {
   "cell_type": "code",
   "execution_count": 13,
   "id": "3aa1759e-4587-48db-8d6a-1f2b740df094",
   "metadata": {},
   "outputs": [
    {
     "name": "stdout",
     "output_type": "stream",
     "text": [
      "[0, 2, 4, 6, 8, 10]\n"
     ]
    }
   ],
   "source": [
    "l2 = []\n",
    "for i in range(11):\n",
    "    if i%2 == 0 :\n",
    "        l2.append(i)\n",
    "print(l2)"
   ]
  },
  {
   "cell_type": "markdown",
   "id": "64de7004-07f8-49ba-a64f-ceaf67984fe6",
   "metadata": {},
   "source": [
    "4.5 Use a dictionary comprehension to create the dictionary squares. Use range(10)\n",
    " to return the keys, and use the square of each key as its value"
   ]
  },
  {
   "cell_type": "code",
   "execution_count": 16,
   "id": "cd917660-0a74-4f59-a03c-c058677406f3",
   "metadata": {},
   "outputs": [
    {
     "name": "stdout",
     "output_type": "stream",
     "text": [
      "{0: 0, 1: 1, 2: 4, 3: 9, 4: 16, 5: 25, 6: 36, 7: 49, 8: 64, 9: 81, 10: 100, 11: 121, 12: 144, 13: 169, 14: 196, 15: 225, 16: 256, 17: 289, 18: 324, 19: 361}\n"
     ]
    }
   ],
   "source": [
    "dict = {  i : i**2 for i in range(20) }\n",
    "print(dict)"
   ]
  },
  {
   "cell_type": "markdown",
   "id": "4fcd0e83-e0df-4b01-bdf0-25aaed48837a",
   "metadata": {},
   "source": [
    " 4.6 Use a set comprehension to create the set \n",
    " odd from the odd numbers in range(10)"
   ]
  },
  {
   "cell_type": "code",
   "execution_count": 19,
   "id": "ab5cdc2a-7d90-43ca-bf27-9ad0fd8c3c8f",
   "metadata": {},
   "outputs": [
    {
     "name": "stdout",
     "output_type": "stream",
     "text": [
      "{1, 3, 5, 7, 9}\n"
     ]
    }
   ],
   "source": [
    "odd = {num for num in range(10) if num%2 !=0}\n",
    "print(odd)"
   ]
  },
  {
   "cell_type": "markdown",
   "id": "a28e3957-2d18-4367-96d4-9a298bd6a474",
   "metadata": {},
   "source": [
    "or"
   ]
  },
  {
   "cell_type": "code",
   "execution_count": 21,
   "id": "07c48d31-4602-492c-8e32-04ec8484460f",
   "metadata": {},
   "outputs": [
    {
     "name": "stdout",
     "output_type": "stream",
     "text": [
      "{1, 3, 5, 7, 9}\n"
     ]
    }
   ],
   "source": [
    "l1 = []\n",
    "for i in range(10):\n",
    "    if  i%2 != 0 :\n",
    "        l1.append(i)\n",
    "l1=set(l1)\n",
    "print(l1)"
   ]
  },
  {
   "cell_type": "markdown",
   "id": "a06cb7c1-720d-4edd-b5a3-56838585cdd7",
   "metadata": {},
   "source": [
    " 4.7 Use a generator comprehension to return the string 'Got ' and a number for the\n",
    " numbers in range(10). Iterate through this by using a for loop"
   ]
  },
  {
   "cell_type": "code",
   "execution_count": 24,
   "id": "3295a155-d031-44a7-b61a-9de269dff7d4",
   "metadata": {},
   "outputs": [
    {
     "name": "stdout",
     "output_type": "stream",
     "text": [
      "Got  0\n",
      "Got  1\n",
      "Got  2\n",
      "Got  3\n",
      "Got  4\n",
      "Got  5\n",
      "Got  6\n",
      "Got  7\n",
      "Got  8\n",
      "Got  9\n"
     ]
    }
   ],
   "source": [
    "for i in range(10):\n",
    "    print(\"Got \" , i)\n",
    "    i += i"
   ]
  },
  {
   "cell_type": "markdown",
   "id": "3800f213-0bcf-40f2-b566-7ede2975c5d2",
   "metadata": {},
   "source": [
    " 4.8 Define a function called \n",
    " good that returns the list ['Harry', 'Ron', 'Hermione']"
   ]
  },
  {
   "cell_type": "code",
   "execution_count": 27,
   "id": "edbefcb4-fdb6-4c87-aabe-05f0ace36140",
   "metadata": {},
   "outputs": [
    {
     "data": {
      "text/plain": [
       "['Harry', 'Ron', 'Hermione']"
      ]
     },
     "execution_count": 27,
     "metadata": {},
     "output_type": "execute_result"
    }
   ],
   "source": [
    "name = True\n",
    "def good(name):\n",
    "    l1 = ['Harry', 'Ron', 'Hermione']\n",
    "    return l1\n",
    "good(name)"
   ]
  },
  {
   "cell_type": "markdown",
   "id": "b95a2c79-416c-4d67-ab6e-9aae42492b28",
   "metadata": {},
   "source": [
    " 4.9 Define a generator function called get_odds that returns the odd numbers from\n",
    " range(10). Use a for loop to find and print the third value returned."
   ]
  },
  {
   "cell_type": "code",
   "execution_count": 30,
   "id": "1a54d61b-4ea3-4f4f-9aff-8394897128b2",
   "metadata": {},
   "outputs": [
    {
     "name": "stdout",
     "output_type": "stream",
     "text": [
      "[1, 3, 5, 7, 9, 11, 13, 15, 17, 19]\n",
      "5\n"
     ]
    }
   ],
   "source": [
    "def get_odds(n):\n",
    "    l1=[]\n",
    "    for i in range(n):\n",
    "     if i%2 != 0:\n",
    "         l1.append(i)\n",
    "    print(l1)\n",
    "    print(l1[2])\n",
    "get_odds(20)"
   ]
  },
  {
   "cell_type": "markdown",
   "id": "de79a0b6-6e9b-41f6-9e02-3ef732cc1c51",
   "metadata": {},
   "source": [
    "4.10 Define a decorator called test that prints 'start' when a function is called and\n",
    " 'end' when it finishes"
   ]
  },
  {
   "cell_type": "code",
   "execution_count": null,
   "id": "238a4934-9ed0-4f64-903a-901a190cb3ef",
   "metadata": {},
   "outputs": [],
   "source": []
  },
  {
   "cell_type": "markdown",
   "id": "dff66b92-6ef1-40a4-9deb-ca8f9c7931fe",
   "metadata": {},
   "source": [
    "4.11 Define an exception called OopsException. Raise this exception to see what hap\n",
    "pens. Then write the code to catch this exception and print 'Caught an oops"
   ]
  },
  {
   "cell_type": "code",
   "execution_count": 33,
   "id": "f38fc784-ffa8-4b18-9f9d-b2416c7f19ef",
   "metadata": {},
   "outputs": [
    {
     "name": "stdout",
     "output_type": "stream",
     "text": [
      "Caught an Oops\n"
     ]
    }
   ],
   "source": [
    "try:\n",
    "    a = (\"Ankita\", \"Kulkarni\")\n",
    "    a = a.append(\"Atul\")\n",
    "    print(a)\n",
    "except Exception as OopsException:  # defining the exception\n",
    "    print('Caught an Oops')"
   ]
  },
  {
   "cell_type": "markdown",
   "id": "ce096441-9149-4916-8b00-52babd452685",
   "metadata": {},
   "source": [
    " 4.12 Use zip() to make a dictionary called movies that pairs these lists: titles =\n",
    " ['Creature of Habit', 'Crewel Fate'] and plots = ['A nun turns into a mon\n",
    " ster', 'A haunted yarn shop']"
   ]
  },
  {
   "cell_type": "code",
   "execution_count": 36,
   "id": "200a4ef2-58c1-47b3-bbba-b142ed44b060",
   "metadata": {},
   "outputs": [
    {
     "name": "stdout",
     "output_type": "stream",
     "text": [
      "Creature of Habit : A nun turns into a monster\n",
      "Crewel Fate : A haunted yarn shop\n"
     ]
    }
   ],
   "source": [
    "titles =  ['Creature of Habit', 'Crewel Fate']\n",
    "plots = ['A nun turns into a monster', 'A haunted yarn shop']\n",
    "for title , plot in zip(titles , plots) :\n",
    "    print(title , ':' , plot)"
   ]
  }
 ],
 "metadata": {
  "kernelspec": {
   "display_name": "Python 3 (ipykernel)",
   "language": "python",
   "name": "python3"
  },
  "language_info": {
   "codemirror_mode": {
    "name": "ipython",
    "version": 3
   },
   "file_extension": ".py",
   "mimetype": "text/x-python",
   "name": "python",
   "nbconvert_exporter": "python",
   "pygments_lexer": "ipython3",
   "version": "3.12.4"
  }
 },
 "nbformat": 4,
 "nbformat_minor": 5
}
